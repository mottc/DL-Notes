{
 "cells": [
  {
   "cell_type": "markdown",
   "metadata": {},
   "source": [
    "# 度量(metrics)\n",
    "\n",
    "在分类算法或者目标检测中，都需要一个指标来度量算法的好坏。本文主要简介在分类算法和目标检测算法中常用的度量方法。\n",
    "\n",
    "### 1. 实际检测中的四种情况\n",
    "+ TN=True Negative 真负，将负类预测为负类的数量\n",
    "+ FP=False Positive 假正，将负类预测为正类的数量，可以称为误报率\n",
    "+ FN=False Negative 假负，将正类预测为负类的数量，可以称为漏报率\n",
    "+ TP=True Positve 真正，将正类预测为正类的数量\n",
    "\n",
    "### 2. 准确率（accuracy）\n",
    "accuracy = (TP + TN)/(TP + FP + FN + TN)\n",
    "\n",
    "有100个sample，99个反例，只有1个正例。如果模型不分青红皂白对任意一个sample都预测是反例，那么模型的accuracy是 分类正确的个数／总个数 = 99/100 = 99%\n",
    "### 3. 精确率（precision）与召回率（recall）\n",
    "precision=TP/(TP+FP)\n",
    "\n",
    "recall=TP/(TP+FN)\n",
    "![avatar](./images/precision_and_recall.jpg)\n",
    "\n",
    "### 4. F1值（F1-score）\n",
    "F1 score 为精确率与召回率的调和均值\n",
    "\n",
    "2/F1 = 1/precision + 1/recall\n",
    "\n",
    "F1 score = 2TP/(2TP+FP+FN)\n",
    "\n",
    "\n",
    "\n",
    "### 参考资料\n",
    "1. [多标签图像分类任务的评价方法-mAP](http://blog.sina.com.cn/s/blog_9db078090102whzw.html)\n",
    "2. [精确率、召回率、F1 值、ROC、AUC 各自的优缺点是什么？- 邓小乔的回答 - 知乎](https://www.zhihu.com/question/30643044/answer/224360465)\n",
    "3. [深度学习分类任务评价指标](https://blog.csdn.net/zong596568821xp/article/details/80797695)\n",
    "4. [Object-Detection-Metrics](https://github.com/rafaelpadilla/Object-Detection-Metrics)\n",
    "5. [Measuring Object Detection models - mAP - What is Mean Average Precision?](http://tarangshah.com/blog/2018-01-27/what-is-map-understanding-the-statistic-of-choice-for-comparing-object-detection-models/)\n",
    "6. [机器学习之分类性能度量指标 : ROC曲线、AUC值、正确率、召回率](https://www.jianshu.com/p/c61ae11cc5f6)\n"
   ]
  }
 ],
 "metadata": {
  "kernelspec": {
   "display_name": "Python 3",
   "language": "python",
   "name": "python3"
  },
  "language_info": {
   "codemirror_mode": {
    "name": "ipython",
    "version": 3
   },
   "file_extension": ".py",
   "mimetype": "text/x-python",
   "name": "python",
   "nbconvert_exporter": "python",
   "pygments_lexer": "ipython3",
   "version": "3.5.2"
  }
 },
 "nbformat": 4,
 "nbformat_minor": 2
}
